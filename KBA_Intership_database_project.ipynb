{
  "nbformat": 4,
  "nbformat_minor": 0,
  "metadata": {
    "colab": {
      "provenance": []
    },
    "kernelspec": {
      "name": "python3",
      "display_name": "Python 3"
    },
    "language_info": {
      "name": "python"
    }
  },
  "cells": [
    {
      "cell_type": "code",
      "execution_count": 10,
      "metadata": {
        "colab": {
          "base_uri": "https://localhost:8080/"
        },
        "id": "4sxIwGZ-qIac",
        "outputId": "b91b9737-7416-44dc-a08d-64b3e3afa39e"
      },
      "outputs": [
        {
          "output_type": "stream",
          "name": "stdout",
          "text": [
            "Enter a value: 500\n",
            "Saved data:\n",
            "100\n",
            "200\n",
            "300\n",
            "400\n",
            "500\n"
          ]
        }
      ],
      "source": [
        "#importing libraries\n",
        "import sqlite3\n",
        "\n",
        "# Connect to or create a database file named \"database.db\"\n",
        "conn = sqlite3.connect(\"kba_database.db\")\n",
        "\n",
        "# Create a cursor object to execute SQL commands\n",
        "cursor = conn.cursor()\n",
        "\n",
        "# Create a table named \"data\" with a single column named \"value\"\n",
        "cursor.execute(\"\"\"\n",
        "CREATE TABLE IF NOT EXISTS data (\n",
        "    value TEXT\n",
        ")\n",
        "\"\"\")\n",
        "\n",
        "# Save changes to the database\n",
        "conn.commit()\n",
        "\n",
        "# Receive input from the user\n",
        "value = input(\"Enter a value: \")\n",
        "\n",
        "# Save the user input to the database\n",
        "cursor.execute(\"\"\"\n",
        "INSERT INTO data (value)\n",
        "VALUES (?)\n",
        "\"\"\", (value,))\n",
        "\n",
        "# Save changes to the database\n",
        "conn.commit()\n",
        "\n",
        "# Retrieve and display saved data\n",
        "cursor.execute(\"\"\"\n",
        "SELECT * FROM data\n",
        "\"\"\")\n",
        "\n",
        "print(\"Saved data:\")\n",
        "for row in cursor.fetchall():\n",
        "    print(row[0])\n",
        "\n",
        "# Close the database connection\n",
        "conn.close()\n"
      ]
    }
  ]
}